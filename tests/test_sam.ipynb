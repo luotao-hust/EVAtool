{
 "cells": [
  {
   "cell_type": "code",
   "execution_count": 1,
   "source": [
    "import sys\n",
    "import os\n",
    "from pathlib import Path\n",
    "print(os.getcwd())\n",
    "sys.path.append(str(Path(\"..\").resolve()))\n",
    "print(sys.path)"
   ],
   "outputs": [
    {
     "output_type": "stream",
     "name": "stdout",
     "text": [
      "/home/xiegy/github/EVAtool/tests\n",
      "['/home/xiegy/github/EVAtool/tests', '/home/xiegy/.vscode-server/extensions/ms-toolsai.jupyter-2021.8.2041215044/pythonFiles', '/home/xiegy/.vscode-server/extensions/ms-toolsai.jupyter-2021.8.2041215044/pythonFiles/lib/python', '/home/xiegy/tools/anaconda3/lib/python36.zip', '/home/xiegy/tools/anaconda3/lib/python3.6', '/home/xiegy/tools/anaconda3/lib/python3.6/lib-dynload', '', '/home/xiegy/github/EVAtool/venv/lib/python3.6/site-packages', '/home/xiegy/github/EVAtool/venv/lib/python3.6/site-packages/IPython/extensions', '/home/xiegy/.ipython', '/home/xiegy/github/EVAtool']\n"
     ]
    }
   ],
   "metadata": {}
  },
  {
   "cell_type": "code",
   "execution_count": 2,
   "source": [
    "def test_sam():\n",
    "    \"\"\"Test sam.py\"\"\"\n",
    "\n",
    "    print(sys.path)\n",
    "    from evatool.utils.sam import SAM\n",
    "    from evatool.utils.config import Config\n",
    "    from evatool.utils.logger import Logger\n",
    "    from evatool.utils.fastq import Fastq\n",
    "\n",
    "    sam = SAM(fastq=Fastq(inputfile=\"/home/xiegy/github/EVAtool/test/example-data/SRR8185773.sra\", outputdir=\"/home/xiegy/github/EVAtool/test/tmp_result\", config=Config(), log=Logger()))\n",
    "    sam.get_sam()\n",
    "\n",
    "test_sam()"
   ],
   "outputs": [
    {
     "output_type": "stream",
     "name": "stdout",
     "text": [
      "['/home/xiegy/github/EVAtool/tests', '/home/xiegy/.vscode-server/extensions/ms-toolsai.jupyter-2021.8.2041215044/pythonFiles', '/home/xiegy/.vscode-server/extensions/ms-toolsai.jupyter-2021.8.2041215044/pythonFiles/lib/python', '/home/xiegy/tools/anaconda3/lib/python36.zip', '/home/xiegy/tools/anaconda3/lib/python3.6', '/home/xiegy/tools/anaconda3/lib/python3.6/lib-dynload', '', '/home/xiegy/github/EVAtool/venv/lib/python3.6/site-packages', '/home/xiegy/github/EVAtool/venv/lib/python3.6/site-packages/IPython/extensions', '/home/xiegy/.ipython', '/home/xiegy/github/EVAtool']\n",
      "/home/xiegy/github/EVAtool/bin/bowtie2 -x /home/xiegy/github/EVAtool/refs/miRNA/hsa.hairpin.fa -p 8 --no-head --no-sq -N 1 -k 2 -L 15 -f /home/xiegy/github/EVAtool/test/tmp_result/SRR8185773.fa -S /home/xiegy/github/EVAtool/test/tmp_result/SRR8185773.miRNA.sam 2> /home/xiegy/github/EVAtool/test/tmp_result/SRR8185773.miRNA.bowtie.stat/home/xiegy/github/EVAtool/bin/bowtie2 -x /home/xiegy/github/EVAtool/refs/rRNA/rRNA.fa -p 8 --no-head --no-sq -N 1 -k 1 -L 12 -f /home/xiegy/github/EVAtool/test/tmp_result/SRR8185773.fa -S /home/xiegy/github/EVAtool/test/tmp_result/SRR8185773.rRNA.sam 2> /home/xiegy/github/EVAtool/test/tmp_result/SRR8185773.rRNA.bowtie.stat/home/xiegy/github/EVAtool/bin/bowtie2 -x /home/xiegy/github/EVAtool/refs/tRNA/tRNA.fa -p 8 --no-head --no-sq -N 1 -k 1 -L 12 -f /home/xiegy/github/EVAtool/test/tmp_result/SRR8185773.fa -S /home/xiegy/github/EVAtool/test/tmp_result/SRR8185773.tRNA.sam 2> /home/xiegy/github/EVAtool/test/tmp_result/SRR8185773.tRNA.bowtie.stat/home/xiegy/github/EVAtool/bin/bowtie2 -x /home/xiegy/github/EVAtool/refs/piRNA/piRNA.fa -p 8 --no-head --no-sq -N 1 -k 1 -L 12 -f /home/xiegy/github/EVAtool/test/tmp_result/SRR8185773.fa -S /home/xiegy/github/EVAtool/test/tmp_result/SRR8185773.piRNA.sam 2> /home/xiegy/github/EVAtool/test/tmp_result/SRR8185773.piRNA.bowtie.stat/home/xiegy/github/EVAtool/bin/bowtie2 -x /home/xiegy/github/EVAtool/refs/snRNA/snRNA.fa -p 8 --no-head --no-sq -N 1 -k 3 -L 10 -f /home/xiegy/github/EVAtool/test/tmp_result/SRR8185773.fa -S /home/xiegy/github/EVAtool/test/tmp_result/SRR8185773.snRNA.sam 2> /home/xiegy/github/EVAtool/test/tmp_result/SRR8185773.snRNA.bowtie.stat/home/xiegy/github/EVAtool/bin/bowtie2 -x /home/xiegy/github/EVAtool/refs/snoRNA/snoRNA.fa -p 8 --no-head --no-sq -N 1 -L 12 -f /home/xiegy/github/EVAtool/test/tmp_result/SRR8185773.fa -S /home/xiegy/github/EVAtool/test/tmp_result/SRR8185773.snoRNA.sam 2> /home/xiegy/github/EVAtool/test/tmp_result/SRR8185773.snoRNA.bowtie.stat/home/xiegy/github/EVAtool/bin/bowtie2 -x /home/xiegy/github/EVAtool/refs/YRNA/YRNA.fa -p 8 --no-head --no-sq -N 1 -k 1 -L 12 -f /home/xiegy/github/EVAtool/test/tmp_result/SRR8185773.fa -S /home/xiegy/github/EVAtool/test/tmp_result/SRR8185773.scRNA.sam 2> /home/xiegy/github/EVAtool/test/tmp_result/SRR8185773.scRNA.bowtie.stat\n",
      "\n",
      "\n",
      "\n",
      "\n",
      "\n",
      "\n",
      "miRNA\n",
      "rRNA\n",
      "tRNA\n",
      "piRNA\n",
      "snoRNA\n",
      "snRNA\n",
      "scRNA\n"
     ]
    }
   ],
   "metadata": {}
  }
 ],
 "metadata": {
  "orig_nbformat": 4,
  "language_info": {
   "name": "python",
   "version": "3.6.5",
   "mimetype": "text/x-python",
   "codemirror_mode": {
    "name": "ipython",
    "version": 3
   },
   "pygments_lexer": "ipython3",
   "nbconvert_exporter": "python",
   "file_extension": ".py"
  },
  "kernelspec": {
   "name": "python3",
   "display_name": "Python 3.6.5 64-bit ('venv': venv)"
  },
  "interpreter": {
   "hash": "af829da40ed56904009825c52282d51d38dbd0bef97d5b59363738dbda321f4c"
  }
 },
 "nbformat": 4,
 "nbformat_minor": 2
}