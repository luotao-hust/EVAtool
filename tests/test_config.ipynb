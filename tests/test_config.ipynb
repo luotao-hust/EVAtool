{
 "cells": [
  {
   "cell_type": "code",
   "execution_count": 1,
   "source": [
    "import sys\n",
    "import os\n",
    "import unittest\n",
    "from pathlib import Path\n",
    "print(os.getcwd())\n",
    "sys.path.append(str(Path(\"..\").resolve()))\n",
    "print(sys.path)\n"
   ],
   "outputs": [
    {
     "output_type": "stream",
     "name": "stdout",
     "text": [
      "/home/xiegy/github/EVAtool/tests\n",
      "['/home/xiegy/github/EVAtool/tests', '/home/xiegy/.vscode-server/extensions/ms-toolsai.jupyter-2021.8.1236758218/pythonFiles', '/home/xiegy/.vscode-server/extensions/ms-toolsai.jupyter-2021.8.1236758218/pythonFiles/lib/python', '/home/xiegy/tools/anaconda3/lib/python36.zip', '/home/xiegy/tools/anaconda3/lib/python3.6', '/home/xiegy/tools/anaconda3/lib/python3.6/lib-dynload', '', '/home/xiegy/github/EVAtool/venv/lib/python3.6/site-packages', '/home/xiegy/github/EVAtool/venv/lib/python3.6/site-packages/IPython/extensions', '/home/xiegy/.ipython', '/home/xiegy/github/EVAtool']\n"
     ]
    }
   ],
   "metadata": {}
  },
  {
   "cell_type": "code",
   "execution_count": 2,
   "source": [
    "\n",
    "def test_config():\n",
    "    \"\"\"Test the config file.\"\"\"\n",
    "    \n",
    "    print(sys.path)\n",
    "    from evatool.utils.config import Config\n",
    "\n",
    "    config = Config()\n",
    "    print(config.config)\n",
    "\n",
    "test_config()"
   ],
   "outputs": [
    {
     "output_type": "stream",
     "name": "stdout",
     "text": [
      "['/home/xiegy/github/EVAtool/tests', '/home/xiegy/.vscode-server/extensions/ms-toolsai.jupyter-2021.8.1236758218/pythonFiles', '/home/xiegy/.vscode-server/extensions/ms-toolsai.jupyter-2021.8.1236758218/pythonFiles/lib/python', '/home/xiegy/tools/anaconda3/lib/python36.zip', '/home/xiegy/tools/anaconda3/lib/python3.6', '/home/xiegy/tools/anaconda3/lib/python3.6/lib-dynload', '', '/home/xiegy/github/EVAtool/venv/lib/python3.6/site-packages', '/home/xiegy/github/EVAtool/venv/lib/python3.6/site-packages/IPython/extensions', '/home/xiegy/.ipython', '/home/xiegy/github/EVAtool']\n",
      "{'fq2tag': '/home/xiegy/github/pipelines/pipelines/wdl-smRNA/miRNA_scripts/fq2tag.py', 'tag_anno_exp': '/home/xiegy/github/pipelines/pipelines/wdl-smRNA/miRNA_scripts/tag_annotation_exp_new_method.py', 'fastqdump': '/home/xiegy/github/EVAtool/bin/fastq-dump', 'samtools': '/home/xiegy/github/EVAtool/bin/samtools', 'bowtie': '/home/xiegy/github/EVAtool/bin/bowtie2', 'bedtools': '/home/xiegy/github/EVAtool/bin/bedtools', 'adp_path': '/home/xiegy/github/EVAtool/refs/sRNA.fa', 'trimmomatic': '/home/xiegy/github/EVAtool/bin/trimmomatic-0.39.jar', 'trimmomatic_sRNA_para': '2:10:4:5 LEADING:3 TRAILING:3 SLIDINGWINDOW:4:15 MINLEN:15', 'tag_cut': '0', 'cpu_number': '8', 'python2': '/home/liucj/tools/anaconda3/envs/py27/bin/python2', 'python3': '/home/xiegy/tools/anaconda3/bin/python3', 'RPM': 'total', 'bowtie_para_4_miRNA': '--no-head --no-sq -N 1 -k 2 -L 15', 'bowtie_para_4_rRNA': '--no-head --no-sq -N 1 -k 1 -L 12', 'bowtie_para_4_tRNA': '--no-head --no-sq -N 1 -k 1 -L 12', 'bowtie_para_4_piRNA': '--no-head --no-sq -N 1 -k 1 -L 12', 'bowtie_para_4_snRNA': '--no-head --no-sq -N 1 -k 3 -L 10', 'bowtie_para_4_snoRNA': '--no-head --no-sq -N 1 -L 12', 'bowtie_para_4_scRNA': '--no-head --no-sq -N 1 -k 1 -L 12', 'bowtie_para_4_genome': '-N 1 -k 1 -L 10', 'miRNA_index': '/home/xiegy/github/EVAtool/refs/miRNA/hsa.hairpin.fa', 'mirbase': '/home/xiegy/github/EVAtool/refs/miRNA/hsa.mirbase.txt', 'piRNA_index': '/home/xiegy/github/EVAtool/refs/piRNA/piRNA.fa', 'scRNA_index': '/home/xiegy/github/EVAtool/refs/YRNA/YRNA.fa', 'snoRNA_index': '/home/xiegy/github/EVAtool/refs/snoRNA/snoRNA.fa', 'snRNA_index': '/home/xiegy/github/EVAtool/refs/snRNA/snRNA.fa', 'rRNA_index': '/home/xiegy/github/EVAtool/refs/rRNA/rRNA.fa', 'tRNA_index': '/home/xiegy/github/EVAtool/refs/tRNA/tRNA.fa', 'genome_index': '/home/xiegy/github/EVAtool/refs/Homo_sapiens_v86/Homo_sapiens_v86.chromosomes.fasta', 'gtf_annotation': '/home/xiegy/github/EVAtool/refs/Homo_sapiens.GRCh38.86.chr.gtf', 'trans_bed_annotation': '/home/xiegy/github/EVAtool/refs/four_elements.sort.bed', 'exon_bed_annotation': '/home/xiegy/github/EVAtool/refs/two_elements.sort.bed'}\n"
     ]
    }
   ],
   "metadata": {}
  },
  {
   "cell_type": "code",
   "execution_count": null,
   "source": [],
   "outputs": [],
   "metadata": {}
  },
  {
   "cell_type": "code",
   "execution_count": null,
   "source": [],
   "outputs": [],
   "metadata": {}
  }
 ],
 "metadata": {
  "orig_nbformat": 4,
  "language_info": {
   "name": "python",
   "version": "3.6.5",
   "mimetype": "text/x-python",
   "codemirror_mode": {
    "name": "ipython",
    "version": 3
   },
   "pygments_lexer": "ipython3",
   "nbconvert_exporter": "python",
   "file_extension": ".py"
  },
  "kernelspec": {
   "name": "python3",
   "display_name": "Python 3.6.5 64-bit ('venv': venv)"
  },
  "interpreter": {
   "hash": "af829da40ed56904009825c52282d51d38dbd0bef97d5b59363738dbda321f4c"
  }
 },
 "nbformat": 4,
 "nbformat_minor": 2
}