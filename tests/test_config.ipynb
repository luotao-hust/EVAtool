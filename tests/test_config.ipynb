{
 "cells": [
  {
   "cell_type": "code",
   "execution_count": 1,
   "metadata": {},
   "outputs": [
    {
     "name": "stdout",
     "output_type": "stream",
     "text": [
      "/home/liuc9/github/EVAtool/tests\n",
      "['/home/liuc9/github/EVAtool/tests', '/home/liuc9/tools/anaconda3/lib/python39.zip', '/home/liuc9/tools/anaconda3/lib/python3.9', '/home/liuc9/tools/anaconda3/lib/python3.9/lib-dynload', '', '/home/liuc9/github/EVAtool/venv/lib/python3.9/site-packages', '/home/liuc9/github/EVAtool/venv/lib/python3.9/site-packages/IPython/extensions', '/home/liuc9/.ipython', '/home/liuc9/github/EVAtool']\n"
     ]
    }
   ],
   "source": [
    "import sys\n",
    "import os\n",
    "from pathlib import Path\n",
    "print(os.getcwd())\n",
    "sys.path.append(str(Path(\"..\").resolve()))\n",
    "print(sys.path)\n"
   ]
  },
  {
   "cell_type": "code",
   "execution_count": 3,
   "metadata": {},
   "outputs": [
    {
     "name": "stdout",
     "output_type": "stream",
     "text": [
      "['/home/xiegy/github/EVAtool/tests', '/home/xiegy/.vscode-server/extensions/ms-toolsai.jupyter-2021.8.2041215044/pythonFiles', '/home/xiegy/.vscode-server/extensions/ms-toolsai.jupyter-2021.8.2041215044/pythonFiles/lib/python', '/home/xiegy/tools/anaconda3/lib/python36.zip', '/home/xiegy/tools/anaconda3/lib/python3.6', '/home/xiegy/tools/anaconda3/lib/python3.6/lib-dynload', '', '/home/xiegy/github/EVAtool/venv/lib/python3.6/site-packages', '/home/xiegy/github/EVAtool/venv/lib/python3.6/site-packages/IPython/extensions', '/home/xiegy/.ipython', '/home/xiegy/github/EVAtool']\n",
      "{'fq2tag': '/home/xiegy/github/pipelines/pipelines/wdl-smRNA/miRNA_scripts/fq2tag.py', 'tag_anno_exp': '/home/xiegy/github/pipelines/pipelines/wdl-smRNA/miRNA_scripts/tag_annotation_exp_new_method.py', 'fastqdump': '/home/xiegy/github/EVAtool/bin/fastq-dump', 'samtools': '/home/xiegy/github/EVAtool/bin/samtools', 'bowtie': '/home/xiegy/github/EVAtool/bin/bowtie2', 'bedtools': '/home/xiegy/github/EVAtool/bin/bedtools', 'adp_path': '/home/xiegy/github/EVAtool/refs/sRNA.fa', 'trimmomatic': '/home/xiegy/github/EVAtool/bin/trimmomatic-0.39.jar', 'trimmomatic_sRNA_para': '2:10:4:5 LEADING:3 TRAILING:3 SLIDINGWINDOW:4:15 MINLEN:15', 'tag_cut': '0', 'cpu_number': '8', 'python2': '/home/liucj/tools/anaconda3/envs/py27/bin/python2', 'python3': '/home/xiegy/tools/anaconda3/bin/python3', 'RPM': 'total', 'bowtie_para_4_miRNA': '--no-head --no-sq -N 1 -k 2 -L 15', 'bowtie_para_4_rRNA': '--no-head --no-sq -N 1 -k 1 -L 12', 'bowtie_para_4_tRNA': '--no-head --no-sq -N 1 -k 1 -L 12', 'bowtie_para_4_piRNA': '--no-head --no-sq -N 1 -k 1 -L 12', 'bowtie_para_4_snRNA': '--no-head --no-sq -N 1 -k 3 -L 10', 'bowtie_para_4_snoRNA': '--no-head --no-sq -N 1 -L 12', 'bowtie_para_4_scRNA': '--no-head --no-sq -N 1 -k 1 -L 12', 'bowtie_para_4_genome': '-N 1 -k 1 -L 10', 'miRNA_index': '/home/xiegy/github/EVAtool/refs/miRNA/hsa.hairpin.fa', 'mirbase': '/home/xiegy/github/EVAtool/refs/miRNA/hsa.mirbase.txt', 'piRNA_index': '/home/xiegy/github/EVAtool/refs/piRNA/piRNA.fa', 'scRNA_index': '/home/xiegy/github/EVAtool/refs/YRNA/YRNA.fa', 'snoRNA_index': '/home/xiegy/github/EVAtool/refs/snoRNA/snoRNA.fa', 'snRNA_index': '/home/xiegy/github/EVAtool/refs/snRNA/snRNA.fa', 'rRNA_index': '/home/xiegy/github/EVAtool/refs/rRNA/rRNA.fa', 'tRNA_index': '/home/xiegy/github/EVAtool/refs/tRNA/tRNA.fa', 'genome_index': '/home/xiegy/github/EVAtool/refs/Homo_sapiens_v86/Homo_sapiens_v86.chromosomes.fasta', 'gtf_annotation': '/home/xiegy/github/EVAtool/refs/Homo_sapiens.GRCh38.86.chr.gtf', 'trans_bed_annotation': '/home/xiegy/github/EVAtool/refs/four_elements.sort.bed', 'exon_bed_annotation': '/home/xiegy/github/EVAtool/refs/two_elements.sort.bed'}\n"
     ]
    }
   ],
   "source": [
    "\n",
    "def test_config():\n",
    "    \"\"\"Test the config file.\"\"\"\n",
    "    \n",
    "    print(sys.path)\n",
    "    from evatool.utils.config import Config\n",
    "\n",
    "    config = Config()\n",
    "    print(config.config)\n",
    "\n",
    "test_config()"
   ]
  }
 ],
 "metadata": {
  "interpreter": {
   "hash": "af829da40ed56904009825c52282d51d38dbd0bef97d5b59363738dbda321f4c"
  },
  "kernelspec": {
   "display_name": "Python 3.6.5 64-bit ('venv': venv)",
   "name": "python3"
  },
  "language_info": {
   "codemirror_mode": {
    "name": "ipython",
    "version": 3
   },
   "file_extension": ".py",
   "mimetype": "text/x-python",
   "name": "python",
   "nbconvert_exporter": "python",
   "pygments_lexer": "ipython3",
   "version": "3.9.7"
  },
  "orig_nbformat": 4
 },
 "nbformat": 4,
 "nbformat_minor": 2
}
