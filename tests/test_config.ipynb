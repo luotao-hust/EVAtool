{
 "cells": [
  {
   "cell_type": "code",
   "execution_count": 3,
   "source": [
    "import sys\n",
    "import os\n",
    "from pathlib import Path\n",
    "print(os.getcwd())\n",
    "sys.path.append(str(Path(\"..\").resolve()))\n",
    "print(sys.path)\n"
   ],
   "outputs": [
    {
     "output_type": "stream",
     "name": "stdout",
     "text": [
      "/home/xiegy/github/EVAtool/tests\n",
      "['/home/xiegy/github/EVAtool/tests', '/home/xiegy/.vscode-server/extensions/ms-toolsai.jupyter-2021.8.2041215044/pythonFiles', '/home/xiegy/.vscode-server/extensions/ms-toolsai.jupyter-2021.8.2041215044/pythonFiles/lib/python', '/home/xiegy/tools/anaconda3/lib/python36.zip', '/home/xiegy/tools/anaconda3/lib/python3.6', '/home/xiegy/tools/anaconda3/lib/python3.6/lib-dynload', '', '/home/xiegy/github/EVAtool/venv/lib/python3.6/site-packages', '/home/xiegy/github/EVAtool/venv/lib/python3.6/site-packages/IPython/extensions', '/home/xiegy/.ipython', '/home/xiegy/github/EVAtool', '/home/xiegy/github/EVAtool']\n"
     ]
    }
   ],
   "metadata": {}
  },
  {
   "cell_type": "code",
   "execution_count": 1,
   "source": [
    "\n",
    "def test_config():\n",
    "    \"\"\"Test the config file.\"\"\"\n",
    "    \n",
    "    print(sys.path)\n",
    "    from evatool.utils.config import Config\n",
    "\n",
    "    config = Config()\n",
    "    print(config.config)\n",
    "\n",
    "test_config()"
   ],
   "outputs": [
    {
     "output_type": "stream",
     "name": "stdout",
     "text": [
      "['/home/xiegy/github/EVAtool/tests', '/home/xiegy/.vscode-server/extensions/ms-toolsai.jupyter-2021.8.2041215044/pythonFiles', '/home/xiegy/.vscode-server/extensions/ms-toolsai.jupyter-2021.8.2041215044/pythonFiles/lib/python', '/home/xiegy/tools/anaconda3/lib/python36.zip', '/home/xiegy/tools/anaconda3/lib/python3.6', '/home/xiegy/tools/anaconda3/lib/python3.6/lib-dynload', '', '/home/xiegy/github/EVAtool/venv/lib/python3.6/site-packages', '/home/xiegy/github/EVAtool/venv/lib/python3.6/site-packages/IPython/extensions', '/home/xiegy/.ipython']\n"
     ]
    },
    {
     "output_type": "error",
     "ename": "ModuleNotFoundError",
     "evalue": "No module named 'evatool'",
     "traceback": [
      "\u001b[0;31m---------------------------------------------------------------------------\u001b[0m",
      "\u001b[0;31mModuleNotFoundError\u001b[0m                       Traceback (most recent call last)",
      "\u001b[0;32m<ipython-input-1-f1bb0a1d4df4>\u001b[0m in \u001b[0;36m<module>\u001b[0;34m\u001b[0m\n\u001b[1;32m      8\u001b[0m     \u001b[0mprint\u001b[0m\u001b[0;34m(\u001b[0m\u001b[0mconfig\u001b[0m\u001b[0;34m.\u001b[0m\u001b[0mconfig\u001b[0m\u001b[0;34m)\u001b[0m\u001b[0;34m\u001b[0m\u001b[0m\n\u001b[1;32m      9\u001b[0m \u001b[0;34m\u001b[0m\u001b[0m\n\u001b[0;32m---> 10\u001b[0;31m \u001b[0mtest_config\u001b[0m\u001b[0;34m(\u001b[0m\u001b[0;34m)\u001b[0m\u001b[0;34m\u001b[0m\u001b[0m\n\u001b[0m",
      "\u001b[0;32m<ipython-input-1-f1bb0a1d4df4>\u001b[0m in \u001b[0;36mtest_config\u001b[0;34m()\u001b[0m\n\u001b[1;32m      3\u001b[0m \u001b[0;34m\u001b[0m\u001b[0m\n\u001b[1;32m      4\u001b[0m     \u001b[0mprint\u001b[0m\u001b[0;34m(\u001b[0m\u001b[0msys\u001b[0m\u001b[0;34m.\u001b[0m\u001b[0mpath\u001b[0m\u001b[0;34m)\u001b[0m\u001b[0;34m\u001b[0m\u001b[0m\n\u001b[0;32m----> 5\u001b[0;31m     \u001b[0;32mfrom\u001b[0m \u001b[0mevatool\u001b[0m\u001b[0;34m.\u001b[0m\u001b[0mutils\u001b[0m\u001b[0;34m.\u001b[0m\u001b[0mconfig\u001b[0m \u001b[0;32mimport\u001b[0m \u001b[0mConfig\u001b[0m\u001b[0;34m\u001b[0m\u001b[0m\n\u001b[0m\u001b[1;32m      6\u001b[0m \u001b[0;34m\u001b[0m\u001b[0m\n\u001b[1;32m      7\u001b[0m     \u001b[0mconfig\u001b[0m \u001b[0;34m=\u001b[0m \u001b[0mConfig\u001b[0m\u001b[0;34m(\u001b[0m\u001b[0;34m)\u001b[0m\u001b[0;34m\u001b[0m\u001b[0m\n",
      "\u001b[0;31mModuleNotFoundError\u001b[0m: No module named 'evatool'"
     ]
    }
   ],
   "metadata": {}
  }
 ],
 "metadata": {
  "orig_nbformat": 4,
  "language_info": {
   "name": "python",
   "version": "3.6.5",
   "mimetype": "text/x-python",
   "codemirror_mode": {
    "name": "ipython",
    "version": 3
   },
   "pygments_lexer": "ipython3",
   "nbconvert_exporter": "python",
   "file_extension": ".py"
  },
  "kernelspec": {
   "name": "python3",
   "display_name": "Python 3.6.5 64-bit ('venv': venv)"
  },
  "interpreter": {
   "hash": "af829da40ed56904009825c52282d51d38dbd0bef97d5b59363738dbda321f4c"
  }
 },
 "nbformat": 4,
 "nbformat_minor": 2
}