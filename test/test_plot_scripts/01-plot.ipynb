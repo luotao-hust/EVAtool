{
 "cells": [
  {
   "cell_type": "code",
   "execution_count": 113,
   "metadata": {},
   "outputs": [],
   "source": [
    "#!/usr/bin/env python\n",
    "#-*- conding:utf-8 -*-\n",
    "# @AUTHOR: Gui-Yan Xie\n",
    "# @CONTACT: xieguiyan at hust dot edu dot cn\n",
    "# @DATE: 2021-11-16 15:31:42\n",
    "# @DESCRIPTION: \n",
    "# @FILE: 01-plot.py\n",
    "import seaborn as sns\n",
    "import re\n",
    "import string\n",
    "import numpy as np\n",
    "from numpy.random import randn\n",
    "import pandas as pd\n",
    "import matplotlib.pyplot as plt\n",
    "from matplotlib import ticker\n",
    "sns.set()"
   ]
  },
  {
   "cell_type": "code",
   "execution_count": null,
   "metadata": {},
   "outputs": [],
   "source": [
    "# Reads length distribution\n",
    "plt.figure(dpi=300, figsize=(8, 4))\n",
    "read=pd.read_table('../tmp_result/SRR8185773.freq.stat',sep='\\t',header=None, skipfooter=1)\n",
    "read.columns=['Read length','count','Read count percentage']\n",
    "read_len = sns.lineplot(x='Read length',y='Read count percentage',data=read)"
   ]
  },
  {
   "cell_type": "code",
   "execution_count": null,
   "metadata": {},
   "outputs": [],
   "source": [
    "read_len.get_figure().savefig('/home/xiegy/github/EVAtool/test/tmp_result/test.png')\n",
    "# read_len.get_figure().savefig('/home/xiegy/github/EVAtool/test/tmp_result/test.pdf')"
   ]
  },
  {
   "cell_type": "code",
   "execution_count": null,
   "metadata": {},
   "outputs": [],
   "source": [
    "# Read type distribution\n",
    "plt.figure(dpi=300, figsize=(8, 4))\n",
    "ncrna_type = pd.read_table('../tmp_result/SRR8185773.stat', header=None, sep='\\t',skiprows=4, dtype=str)\n",
    "ncrna_type.columns = ['Category','MappingTag', 'Ratio']\n",
    "ncrna_type['Ratio'] = ncrna_type['Ratio'].apply(lambda x: np.nan if x in ['-'] else x[:-1]).astype(float)/100\n",
    "read_type =sns.barplot(x='Category',y='Ratio',data=ncrna_type)\n",
    "read_type.yaxis.set_major_formatter(ticker.PercentFormatter(xmax=1, decimals=1))"
   ]
  },
  {
   "cell_type": "code",
   "execution_count": null,
   "metadata": {},
   "outputs": [],
   "source": [
    "read_type.get_figure().savefig('/home/xiegy/github/EVAtool/test/tmp_result/test2.png')\n",
    "# read_type.get_figure().savefig('/home/xiegy/github/EVAtool/test/tmp_result/distribution_of_ncRNA_type.pdf')"
   ]
  },
  {
   "cell_type": "code",
   "execution_count": null,
   "metadata": {},
   "outputs": [],
   "source": [
    "# Reads type distribution pie chart\n",
    "plt.figure(dpi=300, figsize=(4, 8))\n",
    "read_type_pie = pd.read_table('../tmp_result/SRR8185773.stat', header=None, sep='\\t',skiprows=4, dtype=str)\n",
    "read_type_pie.columns = ['Category','MappingTag', 'Ratio']\n",
    "read_type_pie['Ratio'] = read_type_pie['Ratio'].apply(lambda x: np.nan if x in ['-'] else x[:-1]).astype(float)\n",
    "read_type_map = pd.read_table('../tmp_result/SRR8185773.stat', header=None, sep=':',skiprows=1,dtype=str)\n",
    "unmap_ratio = list(re.findall(r\"\\((.*)%\\)\", read_type_map[0:2][1][1]))\n",
    "unmap_ratio_f = [float(i) for i in unmap_ratio]\n",
    "all_ratio = list(read_type_pie['Ratio'])+unmap_ratio_f\n",
    "all_category = list(read_type_pie['Category'])+['unmapped']\n",
    "all_labels = ['{0} - {1:1.2f}%'.format(i,j) for i,j in zip(all_category, all_ratio)]\n",
    "\n",
    "plt.pie(all_ratio)\n",
    "\n",
    "plt.legend(labels=all_labels,\n",
    "        bbox_to_anchor=(1.15,0.5), \n",
    "        loc='center',\n",
    "        frameon=False,\n",
    "        fontsize=7)"
   ]
  },
  {
   "cell_type": "code",
   "execution_count": 128,
   "metadata": {},
   "outputs": [
    {
     "data": {
      "text/plain": [
       "<AxesSubplot:xlabel='RPM'>"
      ]
     },
     "execution_count": 128,
     "metadata": {},
     "output_type": "execute_result"
    },
    {
     "data": {
      "image/png": "[encoded data removed]",
      "text/plain": [
       "<Figure size 432x288 with 1 Axes>"
      ]
     },
     "metadata": {},
     "output_type": "display_data"
    }
   ],
   "source": [
    "# RPM and TagCount distributions in different ncRNAs\n",
    "\n",
    "#RPM\n",
    "read_expr = pd.read_table('../tmp_result/SRR8185773.miRNA.exp')\n",
    "plt.hist(read_expr['RPM'], alpha=0.3, color='yellow')\n",
    "# plt.hist(read_expr['RPM'], bins=80, histtype=\"stepfilled\", alpha=.8)\n",
    "sns.rugplot(read_expr['RPM'], color=\"g\")\n"
   ]
  }
 ],
 "metadata": {
  "interpreter": {
   "hash": "72de3287f4a07d8a26332e5ac4d5a550c57ed3a1120c82000625312d41320976"
  },
  "kernelspec": {
   "display_name": "Python 3.6.5 64-bit ('venv': venv)",
   "name": "python3"
  },
  "language_info": {
   "codemirror_mode": {
    "name": "ipython",
    "version": 3
   },
   "file_extension": ".py",
   "mimetype": "text/x-python",
   "name": "python",
   "nbconvert_exporter": "python",
   "pygments_lexer": "ipython3",
   "version": "3.6.5"
  },
  "orig_nbformat": 4
 },
 "nbformat": 4,
 "nbformat_minor": 2
}
