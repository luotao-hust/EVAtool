{
 "cells": [
  {
   "cell_type": "code",
   "execution_count": null,
   "metadata": {},
   "outputs": [],
   "source": [
    "#!/usr/bin/env python\n",
    "#-*- conding:utf-8 -*-\n",
    "# @AUTHOR: Gui-Yan Xie\n",
    "# @CONTACT: xieguiyan at hust dot edu dot cn\n",
    "# @DATE: 2021-11-16 15:31:42\n",
    "# @DESCRIPTION: \n",
    "# @FILE: 01-plot.py\n",
    "import seaborn as sns\n",
    "import numpy as np\n",
    "import pandas as pd\n",
    "import matplotlib.pyplot as plt\n",
    "from matplotlib import ticker\n",
    "sns.set()"
   ]
  },
  {
   "cell_type": "code",
   "execution_count": null,
   "metadata": {},
   "outputs": [],
   "source": [
    "# Reads length distribution\n",
    "read=pd.read_table('../tmp_result/SRR8185773.freq.stat',sep='\\t',header=None, skipfooter=1)\n",
    "read.columns=['Read length','count','Read count percentage']\n",
    "sns.lineplot(x='Read length',y='Read count percentage',data=read)"
   ]
  },
  {
   "cell_type": "code",
   "execution_count": null,
   "metadata": {},
   "outputs": [],
   "source": [
    "# Read type distribution\n",
    "ncrna_type = pd.read_table('../tmp_result/SRR8185773.stat', header=None, sep='\\t',skiprows=4, dtype=str)\n",
    "ncrna_type.columns = ['Category','MappingTag', 'Ratio']\n",
    "ncrna_type['Ratio'] = ncrna_type['Ratio'].apply(lambda x: np.nan if x in ['-'] else x[:-1]).astype(float)/100\n",
    "ax=sns.barplot(x='Category',y='Ratio',data=ncrna_type)\n",
    "ax.yaxis.set_major_formatter(ticker.PercentFormatter(xmax=1, decimals=1))"
   ]
  }
 ],
 "metadata": {
  "interpreter": {
   "hash": "72de3287f4a07d8a26332e5ac4d5a550c57ed3a1120c82000625312d41320976"
  },
  "kernelspec": {
   "display_name": "Python 3.6.5 64-bit ('venv': venv)",
   "name": "python3"
  },
  "language_info": {
   "codemirror_mode": {
    "name": "ipython",
    "version": 3
   },
   "file_extension": ".py",
   "mimetype": "text/x-python",
   "name": "python",
   "nbconvert_exporter": "python",
   "pygments_lexer": "ipython3",
   "version": "3.6.5"
  },
  "orig_nbformat": 4
 },
 "nbformat": 4,
 "nbformat_minor": 2
}
