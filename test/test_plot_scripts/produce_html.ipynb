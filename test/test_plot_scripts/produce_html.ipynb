{
 "cells": [
  {
   "cell_type": "code",
   "execution_count": 171,
   "id": "5cdc78ad",
   "metadata": {},
   "outputs": [],
   "source": [
    "from jinja2 import Environment, FileSystemLoader\n",
    "import datetime"
   ]
  },
  {
   "cell_type": "code",
   "execution_count": 172,
   "id": "9d62bdb0",
   "metadata": {},
   "outputs": [],
   "source": [
    "def generate_html(body, body2, stoptime,img_path, img_path2):\n",
    "    env = Environment(loader=FileSystemLoader('./'))\n",
    "    template = env.get_template('template_report.html')     \n",
    "    with open(\"Report_result.html\",'w+') as fout:   \n",
    "        html_content = template.render(stop_time=stoptime,\n",
    "                                        body=body, body2=body2,img_path=img_path,img_path2=img_path2)\n",
    "        fout.write(html_content)"
   ]
  },
  {
   "cell_type": "code",
   "execution_count": 173,
   "id": "13984aca",
   "metadata": {},
   "outputs": [],
   "source": [
    "def load_readlen_data(readlen_file):\n",
    "    len_dis = {}\n",
    "    with open(readlen_file, \"r\") as freg:\n",
    "        for i in freg:\n",
    "            if i.startswith('ok'):\n",
    "                len_stat = i.strip().split('\\t')\n",
    "                len_dis['fi'] = len_stat[1]\n",
    "                len_dis['thr'] = len_stat[2]\n",
    "                len_dis['fo'] = len_stat[3]\n",
    "                len_dis['fif'] = len_stat[4]\n",
    "                len_dis['out_reads'] = len_stat[5]\n",
    "                len_dis['ratio'] = len_stat[6]\n",
    "                len_dis['total'] = len_stat[7]\n",
    "    return len_dis"
   ]
  },
  {
   "cell_type": "code",
   "execution_count": 174,
   "id": "a5e80fee",
   "metadata": {},
   "outputs": [],
   "source": [
    "def load_ncrnatype_data(ncrnatype_file):\n",
    "    map_info = {}\n",
    "    all_map_info = []\n",
    "    with open(ncrnatype_file, \"r\") as type_freg:\n",
    "        for t in type_freg:\n",
    "            if t.startswith('#'):\n",
    "                anno_map_info = t.strip('#|\\n').split(':')\n",
    "                map_info[anno_map_info[0]] = anno_map_info[1]\n",
    "            else:\n",
    "                ncrna_stat = t.strip().split('\\t')\n",
    "                if ncrna_stat[0] != 'Category':\n",
    "                    ncrna_dis = {}\n",
    "                    ncrna_dis['Category'] = ncrna_stat[0]\n",
    "                    ncrna_dis['MappedTag'] = ncrna_stat[1]\n",
    "                    ncrna_dis['Ratio'] = ncrna_stat[2]\n",
    "                    all_map_info.append(ncrna_dis)\n",
    "    return all_map_info"
   ]
  },
  {
   "cell_type": "code",
   "execution_count": 175,
   "id": "054c3fd3",
   "metadata": {},
   "outputs": [
    {
     "name": "stdout",
     "output_type": "stream",
     "text": [
      "[{'Category': 'miRNA', 'MappedTag': '437139', 'Ratio': '36.53%'}, {'Category': 'rRNA', 'MappedTag': '353797', 'Ratio': '29.57%'}, {'Category': 'tRNA', 'MappedTag': '38459', 'Ratio': '3.21%'}, {'Category': 'piRNA', 'MappedTag': '32253', 'Ratio': '2.70%'}, {'Category': 'snoRNA', 'MappedTag': '1746', 'Ratio': '0.15%'}, {'Category': 'snRNA', 'MappedTag': '8451', 'Ratio': '0.71%'}, {'Category': 'YRNA', 'MappedTag': '156395', 'Ratio': '13.07%'}]\n"
     ]
    }
   ],
   "source": [
    "if __name__ == \"__main__\":\n",
    "    body = []\n",
    "    body2 = []\n",
    "    len_dis = load_readlen_data(\"../tmp_result/SRR8185773.freq.stat\")\n",
    "    all_map_info = load_ncrnatype_data(\"../tmp_result/SRR8185773.stat\")\n",
    "    img_path = {'image_path':\"distribution_of_read_len.png\"}\n",
    "    img_path2 = {'image_path':\"distribution_of_ncrna_type.png\"}\n",
    "    time = datetime.datetime.now().strftime('%Y-%m-%d %H:%M:%S')\n",
    "    body.append(len_dis)\n",
    "    body2=all_map_info\n",
    "    print(body2)\n",
    "    generate_html(body, body2, time, img_path, img_path2)"
   ]
  },
  {
   "cell_type": "code",
   "execution_count": null,
   "id": "7f3ca0ed",
   "metadata": {},
   "outputs": [],
   "source": []
  }
 ],
 "metadata": {
  "interpreter": {
   "hash": "1817b97ee370fba4f2d3b05b7586a7c61d32a0bc9f47aab3ed6b92c0859ea007"
  },
  "kernelspec": {
   "display_name": "Python 3.6.5 64-bit ('base': conda)",
   "name": "python3"
  },
  "language_info": {
   "codemirror_mode": {
    "name": "ipython",
    "version": 3
   },
   "file_extension": ".py",
   "mimetype": "text/x-python",
   "name": "python",
   "nbconvert_exporter": "python",
   "pygments_lexer": "ipython3",
   "version": "3.6.5"
  }
 },
 "nbformat": 4,
 "nbformat_minor": 5
}
